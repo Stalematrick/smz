{
  "cells": [
    {
      "cell_type": "markdown",
      "metadata": {},
      "source": [
        "# БВТ2003 Токтошев Азирет \n",
        "# Лабораторная работа №2"
      ]
    },
    {
      "cell_type": "code",
      "execution_count": 1,
      "metadata": {
        "colab": {
          "base_uri": "https://localhost:8080/"
        },
        "id": "XeqJ1VeirTY7",
        "outputId": "4e7dd880-d5db-48bb-8acf-29354a7a5845"
      },
      "outputs": [
        {
          "name": "stdout",
          "output_type": "stream",
          "text": [
            "Writing test_lab_2.py\n"
          ]
        }
      ],
      "source": [
        "%%file test_lab_2.py\n",
        "\n",
        "import numpy as np\n",
        "import torch\n",
        "from torch.nn.functional import conv3d as libConv3D\n",
        "import pytest\n",
        "def Convolution3D(input, kernel, stride=1, padding=0):\n",
        "    # Проверка на правильность размерности входных данных\n",
        "\n",
        "    input = np.pad(input,padding,mode='constant')\n",
        "\n",
        "    # Получение размеров входных данных\n",
        "    H, W, D = input.shape\n",
        "    E, F, G = kernel.shape\n",
        "\n",
        "    # Вычисление размеров выходного тензора\n",
        "    out_H = (H + 2 * padding - E) // stride + 1\n",
        "    out_W = (W + 2 * padding - F) // stride + 1\n",
        "    out_D = (D + 2 * padding - G) // stride + 1\n",
        "\n",
        "    # Создание выходного тензора\n",
        "    output = np.zeros((out_H, out_W, out_D))\n",
        "\n",
        "    # Применение свертки\n",
        "    for h in range(out_H):\n",
        "        for w in range(out_W):\n",
        "            for d in range(out_D):\n",
        "                window = input[h:h + E, w:w + F, d:d + G]\n",
        "                output[h, w, d] = np.sum(window*kernel)\n",
        "\n",
        "\n",
        "    return output\n",
        "\n",
        "# Тесты\n",
        "def test1():\n",
        "  input_array = np.random.rand(4, 4, 4)\n",
        "  kernel_array = np.random.rand(3, 3, 3)\n",
        "  myConv3D = Convolution3D(input_array, kernel_array)\n",
        "  myConv3D = torch.from_numpy(myConv3D)\n",
        "  input_t = torch.tensor(input_array).unsqueeze(0).unsqueeze(0)\n",
        "  kernel_t = torch.tensor(kernel_array).unsqueeze(0).unsqueeze(0)\n",
        "  torchConv3D = libConv3D(input_t, kernel_t)\n",
        "  myConv3D = myConv3D.to(torchConv3D.dtype)\n",
        "  assert torch.allclose(myConv3D, torchConv3D)\n",
        "\n",
        "def test2():\n",
        "  input_array = np.random.rand(7, 7, 7)\n",
        "  kernel_array = np.random.rand(3, 3, 3)\n",
        "  myConv3D = Convolution3D(input_array, kernel_array)\n",
        "  myConv3D = torch.from_numpy(myConv3D)\n",
        "  input_t = torch.tensor(input_array).unsqueeze(0).unsqueeze(0)\n",
        "  kernel_t = torch.tensor(kernel_array).unsqueeze(0).unsqueeze(0)\n",
        "  torchConv3D = libConv3D(input_t, kernel_t)\n",
        "  myConv3D = myConv3D.to(torchConv3D.dtype)\n",
        "  assert torch.allclose(myConv3D, torchConv3D)\n",
        "\n",
        "def test3():\n",
        "  input_array = np.random.rand(5, 5, 5)\n",
        "  kernel_array = np.random.rand(2, 2, 2)\n",
        "  myConv3D = Convolution3D(input_array, kernel_array)\n",
        "  myConv3D = torch.from_numpy(myConv3D)\n",
        "  input_t = torch.tensor(input_array).unsqueeze(0).unsqueeze(0)\n",
        "  kernel_t = torch.tensor(kernel_array).unsqueeze(0).unsqueeze(0)\n",
        "  torchConv3D = libConv3D(input_t, kernel_t)\n",
        "  myConv3D = myConv3D.to(torchConv3D.dtype)\n",
        "  assert torch.allclose(myConv3D, torchConv3D)\n",
        "\n",
        "def test4():\n",
        "  input_array = np.random.rand(3, 3, 3)\n",
        "  kernel_array = np.random.rand(3, 3, 3)\n",
        "  myConv3D = Convolution3D(input_array, kernel_array)\n",
        "  myConv3D = torch.from_numpy(myConv3D)\n",
        "  input_t = torch.tensor(input_array).unsqueeze(0).unsqueeze(0)\n",
        "  kernel_t = torch.tensor(kernel_array).unsqueeze(0).unsqueeze(0)\n",
        "  torchConv3D = libConv3D(input_t, kernel_t)\n",
        "  myConv3D = myConv3D.to(torchConv3D.dtype)\n",
        "  assert torch.allclose(myConv3D, torchConv3D)\n",
        "\n",
        "def test5():\n",
        "  input_array = np.random.rand(10, 10, 10)\n",
        "  kernel_array = np.random.rand(5, 5, 5)\n",
        "  myConv3D = Convolution3D(input_array, kernel_array)\n",
        "  myConv3D = torch.from_numpy(myConv3D)\n",
        "  input_t = torch.tensor(input_array).unsqueeze(0).unsqueeze(0)\n",
        "  kernel_t = torch.tensor(kernel_array).unsqueeze(0).unsqueeze(0)\n",
        "  torchConv3D = libConv3D(input_t, kernel_t)\n",
        "  myConv3D = myConv3D.to(torchConv3D.dtype)\n",
        "  assert torch.allclose(myConv3D, torchConv3D)\n"
      ]
    },
    {
      "cell_type": "code",
      "execution_count": 2,
      "metadata": {
        "colab": {
          "base_uri": "https://localhost:8080/"
        },
        "id": "JYoDmjoMt_Vp",
        "outputId": "81676fa1-d6d3-46ef-8803-10ebcc432db3"
      },
      "outputs": [
        {
          "name": "stdout",
          "output_type": "stream",
          "text": [
            "\u001b[1m======================================= test session starts ========================================\u001b[0m\n",
            "platform linux -- Python 3.10.12, pytest-7.4.3, pluggy-1.3.0\n",
            "rootdir: /content\n",
            "plugins: anyio-3.7.1\n",
            "collected 5 items                                                                                  \u001b[0m\n",
            "\n",
            "test_lab_2.py \u001b[32m.\u001b[0m\u001b[32m.\u001b[0m\u001b[32m.\u001b[0m\u001b[32m.\u001b[0m\u001b[32m.\u001b[0m\u001b[32m                                                                          [100%]\u001b[0m\n",
            "\n",
            "\u001b[32m======================================== \u001b[32m\u001b[1m5 passed\u001b[0m\u001b[32m in 9.46s\u001b[0m\u001b[32m =========================================\u001b[0m\n"
          ]
        }
      ],
      "source": [
        "!pytest"
      ]
    },
    {
      "cell_type": "code",
      "execution_count": 6,
      "metadata": {
        "colab": {
          "base_uri": "https://localhost:8080/"
        },
        "id": "fFm2fzpAsEZu",
        "outputId": "3fc7780c-3f67-4c79-877d-458dcf795205"
      },
      "outputs": [
        {
          "name": "stdout",
          "output_type": "stream",
          "text": [
            "Результат выполнения моей функции Convolution3D:\n",
            "tensor([[[13.6641, 14.8743],\n",
            "         [14.0895, 13.8883]],\n",
            "\n",
            "        [[14.1551, 15.6618],\n",
            "         [15.3491, 13.3890]]], dtype=torch.float64)\n",
            "Результат выполнения встроенной функции libConv3D из библиотеки PyTorch:\n",
            "tensor([[[[[13.6641, 14.8743],\n",
            "           [14.0895, 13.8883]],\n",
            "\n",
            "          [[14.1551, 15.6618],\n",
            "           [15.3491, 13.3890]]]]], dtype=torch.float64)\n"
          ]
        },
        {
          "data": {
            "text/plain": [
              "True"
            ]
          },
          "execution_count": 6,
          "metadata": {},
          "output_type": "execute_result"
        }
      ],
      "source": [
        "input_array = np.random.rand(5, 5, 5)\n",
        "kernel_array = np.random.rand(4, 4, 4)\n",
        "\n",
        "myConv3D = Convolution3D(input_array, kernel_array)\n",
        "myConv3D = torch.from_numpy(myConv3D)\n",
        "print(\"Результат выполнения моей функции Convolution3D:\")\n",
        "print(myConv3D)\n",
        "\n",
        "input_t = torch.tensor(input_array).unsqueeze(0).unsqueeze(0)\n",
        "kernel_t = torch.tensor(kernel_array).unsqueeze(0).unsqueeze(0)\n",
        "torchConv3D = libConv3D(input_t, kernel_t)\n",
        "print(\"Результат выполнения встроенной функции libConv3D из библиотеки PyTorch:\")\n",
        "print(torchConv3D)\n",
        "\n",
        "myConv3D = myConv3D.to(torchConv3D.dtype)\n",
        "torch.allclose(myConv3D, torchConv3D)"
      ]
    }
  ],
  "metadata": {
    "colab": {
      "provenance": []
    },
    "kernelspec": {
      "display_name": "Python 3",
      "name": "python3"
    },
    "language_info": {
      "name": "python"
    }
  },
  "nbformat": 4,
  "nbformat_minor": 0
}
